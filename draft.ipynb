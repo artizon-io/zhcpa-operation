{
 "cells": [
  {
   "cell_type": "code",
   "execution_count": 14,
   "metadata": {},
   "outputs": [],
   "source": [
    "import os\n",
    "from dotenv import load_dotenv\n",
    "\n",
    "load_dotenv()\n",
    "\n",
    "app_key = os.getenv(\"APP_KEY\")\n",
    "app_secret = os.getenv(\"APP_SECRET\")"
   ]
  },
  {
   "cell_type": "code",
   "execution_count": 15,
   "metadata": {},
   "outputs": [],
   "source": [
    "from alibabacloud_dingtalk.oauth2_1_0.client import Client as DingtalkClient\n",
    "from alibabacloud_tea_openapi import models as open_api_models\n",
    "from alibabacloud_dingtalk.oauth2_1_0 import models as dingtalk_oauth_models\n",
    "\n",
    "config = open_api_models.Config()\n",
    "config.protocol = \"https\"\n",
    "config.region_id = \"central\"\n",
    "dingtalk_client = DingtalkClient(config)\n",
    "\n",
    "get_access_token_request = dingtalk_oauth_models.GetAccessTokenRequest(\n",
    "    app_key=app_key, app_secret=app_secret\n",
    ")\n",
    "try:\n",
    "    dingtalk_client.get_access_token(get_access_token_request)\n",
    "except Exception as err:\n",
    "    raise err"
   ]
  }
 ],
 "metadata": {
  "kernelspec": {
   "display_name": ".venv",
   "language": "python",
   "name": "python3"
  },
  "language_info": {
   "codemirror_mode": {
    "name": "ipython",
    "version": 3
   },
   "file_extension": ".py",
   "mimetype": "text/x-python",
   "name": "python",
   "nbconvert_exporter": "python",
   "pygments_lexer": "ipython3",
   "version": "3.11.3"
  },
  "orig_nbformat": 4
 },
 "nbformat": 4,
 "nbformat_minor": 2
}
