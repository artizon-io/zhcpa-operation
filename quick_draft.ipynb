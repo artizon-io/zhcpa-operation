{
 "cells": [
  {
   "cell_type": "code",
   "execution_count": 1,
   "metadata": {},
   "outputs": [],
   "source": [
    "from op.attendance import get_attendance_records, upsert_attendance, find_duplicate_attendance\n",
    "import pandas as pd\n",
    "from datetime import datetime"
   ]
  },
  {
   "cell_type": "code",
   "execution_count": 2,
   "metadata": {},
   "outputs": [],
   "source": [
    "raw = get_attendance_records(\n",
    "    start_time=datetime(2023, 7, 14),\n",
    "    end_time=datetime(2023, 7, 15),\n",
    ")"
   ]
  },
  {
   "cell_type": "code",
   "execution_count": 29,
   "metadata": {},
   "outputs": [
    {
     "data": {
      "text/plain": [
       "[295207747545, 296083791870]"
      ]
     },
     "execution_count": 29,
     "metadata": {},
     "output_type": "execute_result"
    }
   ],
   "source": [
    "raw_df = pd.DataFrame(raw)\n",
    "\n",
    "# filtered_df = raw_df.sort_values(by=[\"opuserid\", \"check_time\"])\n",
    "# filtered_df\n",
    "\n",
    "# for index, row in filtered_df.iterrows():\n",
    "#     if index == 0:\n",
    "#         continue\n",
    "#     prev_row = filtered_df.iloc[index - 1]  # pyright: ignore\n",
    "#     if (\n",
    "#         row[\"opuserid\"] == prev_row[\"opuserid\"]  # pyright: ignore\n",
    "#         and row[\"check_time\"] == prev_row[\"check_time\"]  # pyright: ignore\n",
    "#     ):\n",
    "#         print(prev_row[\"id\"])\n",
    "#         print(row[\"id\"])\n",
    "#         print(row[\"opuserid\"])\n",
    "#         print(row[\"check_time\"])\n",
    "#         print()\n",
    "\n",
    "raw_df[raw_df.duplicated([\"check_time\", \"opuserid\"], keep=False)].iloc[:, 0].tolist()\n",
    "\n",
    "# raw_df\n",
    "# raw_df.loc[raw_df[\"id\"] == 297162436649]\n",
    "# raw_df.loc[raw_df[\"opuserid\"] == \"01233445366737643430\"]"
   ]
  },
  {
   "cell_type": "code",
   "execution_count": 5,
   "metadata": {},
   "outputs": [
    {
     "data": {
      "text/plain": [
       "[297162436649, 294215802040]"
      ]
     },
     "execution_count": 5,
     "metadata": {},
     "output_type": "execute_result"
    }
   ],
   "source": [
    "attendance_records = raw\n",
    "\n",
    "data = [\n",
    "    {\n",
    "        \"id\": r[\"id\"],\n",
    "        \"opuser_id\": r[\"opuserid\"],\n",
    "        \"check_in\": r[\"check_in\"],\n",
    "        \"check_time\": r[\"check_time\"].isoformat(),\n",
    "        \"check_source\": r[\"check_source\"],\n",
    "    }\n",
    "    for r in attendance_records\n",
    "]\n",
    "\n",
    "duplicate_data = find_duplicate_attendance(data)\n",
    "duplicate_data\n",
    "\n",
    "# data = list(filter(lambda d: d[\"id\"] not in duplicate_data, data))\n",
    "# data\n",
    "\n",
    "# find_duplicate_attendance(data)"
   ]
  },
  {
   "cell_type": "code",
   "execution_count": 9,
   "metadata": {},
   "outputs": [
    {
     "data": {
      "text/plain": [
       "[297162436649, 294215802040]"
      ]
     },
     "execution_count": 9,
     "metadata": {},
     "output_type": "execute_result"
    }
   ],
   "source": [
    "# len(duplicates)\n",
    "duplicates_df.iloc[:, 0].tolist()"
   ]
  },
  {
   "cell_type": "code",
   "execution_count": 34,
   "metadata": {},
   "outputs": [
    {
     "name": "stderr",
     "output_type": "stream",
     "text": [
      "2023-08-22 10:55:32,486:INFO - HTTP Request: GET https://izvbaqnmsstyzmtlgrzl.supabase.co/rest/v1/attendance?select=%2A \"HTTP/1.1 200 OK\"\n"
     ]
    }
   ],
   "source": [
    "from op.supabase import supabase\n",
    "\n",
    "raw_table = supabase.table(\"attendance\").select(\"*\").execute()"
   ]
  },
  {
   "cell_type": "code",
   "execution_count": 38,
   "metadata": {},
   "outputs": [
    {
     "data": {
      "text/html": [
       "<div>\n",
       "<style scoped>\n",
       "    .dataframe tbody tr th:only-of-type {\n",
       "        vertical-align: middle;\n",
       "    }\n",
       "\n",
       "    .dataframe tbody tr th {\n",
       "        vertical-align: top;\n",
       "    }\n",
       "\n",
       "    .dataframe thead th {\n",
       "        text-align: right;\n",
       "    }\n",
       "</style>\n",
       "<table border=\"1\" class=\"dataframe\">\n",
       "  <thead>\n",
       "    <tr style=\"text-align: right;\">\n",
       "      <th></th>\n",
       "      <th>id</th>\n",
       "      <th>opuser_id</th>\n",
       "      <th>check_in</th>\n",
       "      <th>check_time</th>\n",
       "      <th>check_source</th>\n",
       "      <th>check_date</th>\n",
       "    </tr>\n",
       "  </thead>\n",
       "  <tbody>\n",
       "  </tbody>\n",
       "</table>\n",
       "</div>"
      ],
      "text/plain": [
       "Empty DataFrame\n",
       "Columns: [id, opuser_id, check_in, check_time, check_source, check_date]\n",
       "Index: []"
      ]
     },
     "execution_count": 38,
     "metadata": {},
     "output_type": "execute_result"
    }
   ],
   "source": [
    "data = raw_table.data\n",
    "data_df = pd.DataFrame(data)\n",
    "data_df\n",
    "\n",
    "data_df[data_df.duplicated([\"check_time\", \"opuser_id\"], keep=False)]"
   ]
  }
 ],
 "metadata": {
  "kernelspec": {
   "display_name": ".venv",
   "language": "python",
   "name": "python3"
  },
  "language_info": {
   "codemirror_mode": {
    "name": "ipython",
    "version": 3
   },
   "file_extension": ".py",
   "mimetype": "text/x-python",
   "name": "python",
   "nbconvert_exporter": "python",
   "pygments_lexer": "ipython3",
   "version": "3.11.3"
  },
  "orig_nbformat": 4
 },
 "nbformat": 4,
 "nbformat_minor": 2
}
